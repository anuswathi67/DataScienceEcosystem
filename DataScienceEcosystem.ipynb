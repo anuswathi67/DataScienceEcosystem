{
 "cells": [
  {
   "cell_type": "markdown",
   "id": "0c3c0f7a",
   "metadata": {},
   "source": [
    "# Data Science Tools and Ecosystem"
   ]
  },
  {
   "cell_type": "markdown",
   "id": "17050e99",
   "metadata": {},
   "source": [
    "* In this notebook, Data Science Tools and Ecosystem are summarized.\n",
    "\n",
    "**Objectives:\n",
    "\n",
    " - Creating markdown cells\n",
    " - using ordered and ordered list\n",
    " - using headings\n",
    " - Using bold and italic fonts"
   ]
  },
  {
   "cell_type": "markdown",
   "id": "6e6bbaf9",
   "metadata": {},
   "source": []
  },
  {
   "cell_type": "markdown",
   "id": "a32b385e",
   "metadata": {},
   "source": [
    "* Some of the popular languages that Data Scientists use are:\n",
    "    1.Python\n",
    "    2.R\n",
    "    3.Java\n",
    "    4.JavaScript"
   ]
  },
  {
   "cell_type": "markdown",
   "id": "9b9e5127",
   "metadata": {},
   "source": [
    "* Some of the commonly used libraries used by Data Scientists include:\n",
    "    * Tensorflow\n",
    "    * Pandas\n",
    "    * Numpy\n",
    "    * Keras"
   ]
  },
  {
   "cell_type": "markdown",
   "id": "a46b6193",
   "metadata": {},
   "source": [
    "|Data Science Tools|\n",
    "|------------------|\n",
    "|RStudio|\n",
    "|Apache Spark|\n",
    "|TensorFlow|"
   ]
  },
  {
   "cell_type": "markdown",
   "id": "b582139f",
   "metadata": {},
   "source": [
    "### Below are a few examples of evaluating arithmetic expressions in Python"
   ]
  },
  {
   "cell_type": "code",
   "execution_count": 6,
   "id": "1d1e8045",
   "metadata": {},
   "outputs": [
    {
     "name": "stdout",
     "output_type": "stream",
     "text": [
      "Sum = 12\n",
      "Diff = -4\n",
      "Mul = 32\n",
      "Div = 0.5\n",
      "Mod = 4\n"
     ]
    }
   ],
   "source": [
    "a = 4\n",
    "b = 8\n",
    "Sum = a+b\n",
    "print(\"Sum =\", Sum)\n",
    "Diff = a-b\n",
    "print(\"Diff =\", Diff)\n",
    "Mul = a*b\n",
    "print(\"Mul =\", Mul)\n",
    "Div = a/b\n",
    "print(\"Div =\", Div)\n",
    "Mod = a%b\n",
    "print(\"Mod =\", Mod)"
   ]
  },
  {
   "cell_type": "code",
   "execution_count": 7,
   "id": "ce9bd324",
   "metadata": {},
   "outputs": [
    {
     "name": "stdout",
     "output_type": "stream",
     "text": [
      "17\n"
     ]
    }
   ],
   "source": [
    "#This a simple arithmetic expression to mutiply then add integers\n",
    "\n",
    "output = (3*4)+5\n",
    "print(output)"
   ]
  },
  {
   "cell_type": "code",
   "execution_count": 10,
   "id": "048c63e9",
   "metadata": {},
   "outputs": [
    {
     "data": {
      "text/plain": [
       "3.3333333333333335"
      ]
     },
     "execution_count": 10,
     "metadata": {},
     "output_type": "execute_result"
    }
   ],
   "source": [
    "# This will convert 200 minutes to hours by diving by 60\n",
    "\n",
    "inp = 200\n",
    "min_to_hr = inp* 1/60\n",
    "min_to_hr"
   ]
  },
  {
   "cell_type": "markdown",
   "id": "60e63f65",
   "metadata": {},
   "source": [
    "## Author\n",
    "\n",
    "Swathi M"
   ]
  },
  {
   "cell_type": "code",
   "execution_count": null,
   "id": "73e60cd9",
   "metadata": {},
   "outputs": [],
   "source": []
  },
  {
   "cell_type": "code",
   "execution_count": null,
   "id": "0c74a1aa",
   "metadata": {},
   "outputs": [],
   "source": []
  },
  {
   "cell_type": "code",
   "execution_count": null,
   "id": "908b4d3c",
   "metadata": {},
   "outputs": [],
   "source": []
  },
  {
   "cell_type": "code",
   "execution_count": null,
   "id": "06ab4666",
   "metadata": {},
   "outputs": [],
   "source": []
  },
  {
   "cell_type": "code",
   "execution_count": null,
   "id": "76269749",
   "metadata": {},
   "outputs": [],
   "source": []
  },
  {
   "cell_type": "code",
   "execution_count": null,
   "id": "17a6207a",
   "metadata": {},
   "outputs": [],
   "source": []
  },
  {
   "cell_type": "code",
   "execution_count": null,
   "id": "a6d0cacc",
   "metadata": {},
   "outputs": [],
   "source": []
  }
 ],
 "metadata": {
  "kernelspec": {
   "display_name": "Python 3 (ipykernel)",
   "language": "python",
   "name": "python3"
  },
  "language_info": {
   "codemirror_mode": {
    "name": "ipython",
    "version": 3
   },
   "file_extension": ".py",
   "mimetype": "text/x-python",
   "name": "python",
   "nbconvert_exporter": "python",
   "pygments_lexer": "ipython3",
   "version": "3.9.12"
  }
 },
 "nbformat": 4,
 "nbformat_minor": 5
}
